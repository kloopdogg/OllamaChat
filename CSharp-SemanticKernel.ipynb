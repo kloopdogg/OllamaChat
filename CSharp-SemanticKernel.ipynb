{
 "cells": [
  {
   "cell_type": "markdown",
   "metadata": {},
   "source": [
    "# Using local Ollama models with C# (Semantic Kernel)"
   ]
  },
  {
   "cell_type": "code",
   "execution_count": 2,
   "metadata": {
    "dotnet_interactive": {
     "language": "csharp"
    },
    "polyglot_notebook": {
     "kernelName": "csharp"
    },
    "vscode": {
     "languageId": "polyglot-notebook"
    }
   },
   "outputs": [
    {
     "data": {
      "text/html": [
       "<div><div></div><div></div><div><strong>Installed Packages</strong><ul><li><span>Microsoft.SemanticKernel, 1.25.0</span></li><li><span>Microsoft.SemanticKernel.Connectors.Ollama, 1.25.0-alpha</span></li></ul></div></div>"
      ]
     },
     "metadata": {},
     "output_type": "display_data"
    }
   ],
   "source": [
    "#r \"nuget:Microsoft.SemanticKernel, 1.25.0\"\n",
    "#r \"nuget:Microsoft.SemanticKernel.Connectors.Ollama, 1.25.0-alpha\""
   ]
  },
  {
   "cell_type": "code",
   "execution_count": 3,
   "metadata": {
    "dotnet_interactive": {
     "language": "csharp"
    },
    "polyglot_notebook": {
     "kernelName": "csharp"
    },
    "vscode": {
     "languageId": "polyglot-notebook"
    }
   },
   "outputs": [],
   "source": [
    "using Microsoft.SemanticKernel;\n",
    "using Microsoft.SemanticKernel.ChatCompletion;"
   ]
  },
  {
   "cell_type": "markdown",
   "metadata": {},
   "source": [
    "### Define user prompt and kernel"
   ]
  },
  {
   "cell_type": "code",
   "execution_count": 4,
   "metadata": {
    "dotnet_interactive": {
     "language": "csharp"
    },
    "polyglot_notebook": {
     "kernelName": "csharp"
    },
    "vscode": {
     "languageId": "polyglot-notebook"
    }
   },
   "outputs": [],
   "source": [
    "string canoetrippingPrompt = \"In 20 words or less, describe the canadian shield as viewed by a an enthusiastic solo canoetripper.\";\n",
    "\n",
    "#pragma warning disable SKEXP0070\n",
    "Kernel kernel = Kernel.CreateBuilder()\n",
    "                    .AddOllamaChatCompletion(\n",
    "                        modelId: \"llama3\",\n",
    "                        endpoint: new Uri(\"http://localhost:11434\"))\n",
    "                    .Build();\n",
    "\n",
    "IChatCompletionService aiChatService = kernel.GetRequiredService<IChatCompletionService>();"
   ]
  },
  {
   "cell_type": "markdown",
   "metadata": {},
   "source": [
    "### Use non-streaming chat"
   ]
  },
  {
   "cell_type": "code",
   "execution_count": null,
   "metadata": {
    "dotnet_interactive": {
     "language": "csharp"
    },
    "polyglot_notebook": {
     "kernelName": "csharp"
    },
    "vscode": {
     "languageId": "polyglot-notebook"
    }
   },
   "outputs": [
    {
     "name": "stdout",
     "output_type": "stream",
     "text": [
      "\"WOOHOO! The Canadian Shield is my playground - vast wilderness, hidden waterfalls, and untamed rapids await!\"\n"
     ]
    }
   ],
   "source": [
    "ChatHistory chatHistory = new();\n",
    "chatHistory.Add(new ChatMessageContent(AuthorRole.User, canoetrippingPrompt));\n",
    "\n",
    "var nonStreamingResponse = await aiChatService.GetChatMessageContentsAsync(chatHistory);\n",
    "Console.WriteLine(nonStreamingResponse.First().Content);\n",
    "chatHistory.Add(new ChatMessageContent(AuthorRole.Assistant, nonStreamingResponse.First().Content));"
   ]
  },
  {
   "cell_type": "markdown",
   "metadata": {},
   "source": [
    "### Use streaming chat"
   ]
  },
  {
   "cell_type": "code",
   "execution_count": null,
   "metadata": {
    "dotnet_interactive": {
     "language": "csharp"
    },
    "polyglot_notebook": {
     "kernelName": "csharp"
    },
    "vscode": {
     "languageId": "polyglot-notebook"
    }
   },
   "outputs": [
    {
     "name": "stdout",
     "output_type": "stream",
     "text": [
      "\"Whoa, rugged beauty! Towering cliffs, ancient forests, and hidden waterways await me on this wilderness wonderland adventure!\""
     ]
    }
   ],
   "source": [
    "ChatHistory chatHistory = new();\n",
    "chatHistory.Add(new ChatMessageContent(AuthorRole.User, canoetrippingPrompt));\n",
    "\n",
    "StringBuilder response = new();\n",
    "await foreach(var item in aiChatService.GetStreamingChatMessageContentsAsync(chatHistory))\n",
    "{\n",
    "    Console.Write(item.Content);\n",
    "    response.Append(item.Content);\n",
    "}\n",
    "chatHistory.Add(new ChatMessageContent(AuthorRole.Assistant, response.ToString()));"
   ]
  },
  {
   "cell_type": "code",
   "execution_count": null,
   "metadata": {
    "dotnet_interactive": {
     "language": "csharp"
    },
    "polyglot_notebook": {
     "kernelName": "csharp"
    },
    "vscode": {
     "languageId": "polyglot-notebook"
    }
   },
   "outputs": [],
   "source": []
  }
 ],
 "metadata": {
  "kernelspec": {
   "display_name": ".NET (C#)",
   "language": "C#",
   "name": ".net-csharp"
  },
  "language_info": {
   "name": "python"
  },
  "polyglot_notebook": {
   "kernelInfo": {
    "defaultKernelName": "csharp",
    "items": [
     {
      "aliases": [],
      "name": "csharp"
     }
    ]
   }
  }
 },
 "nbformat": 4,
 "nbformat_minor": 2
}
