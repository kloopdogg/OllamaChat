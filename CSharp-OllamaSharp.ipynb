{
 "cells": [
  {
   "cell_type": "markdown",
   "metadata": {},
   "source": [
    "# Using local Ollama models with C# (OllamaSharp)"
   ]
  },
  {
   "cell_type": "code",
   "execution_count": 3,
   "metadata": {
    "dotnet_interactive": {
     "language": "csharp"
    },
    "polyglot_notebook": {
     "kernelName": "csharp"
    },
    "vscode": {
     "languageId": "polyglot-notebook"
    }
   },
   "outputs": [
    {
     "data": {
      "text/html": [
       "<div><div></div><div></div><div><strong>Installed Packages</strong><ul><li><span>OllamaSharp, 4.0.8</span></li></ul></div></div>"
      ]
     },
     "metadata": {},
     "output_type": "display_data"
    }
   ],
   "source": [
    "#r \"nuget:OllamaSharp\""
   ]
  },
  {
   "cell_type": "code",
   "execution_count": 30,
   "metadata": {
    "dotnet_interactive": {
     "language": "csharp"
    },
    "polyglot_notebook": {
     "kernelName": "csharp"
    },
    "vscode": {
     "languageId": "polyglot-notebook"
    }
   },
   "outputs": [],
   "source": [
    "using OllamaSharp;\n",
    "using OllamaSharp.Models;\n",
    "using OllamaSharp.Models.Chat;"
   ]
  },
  {
   "cell_type": "markdown",
   "metadata": {},
   "source": [
    "## Define client and prompt"
   ]
  },
  {
   "cell_type": "code",
   "execution_count": 34,
   "metadata": {
    "vscode": {
     "languageId": "polyglot-notebook"
    }
   },
   "outputs": [],
   "source": [
    "var uri = new Uri(\"http://localhost:11434\");\n",
    "OllamaApiClient ollama = new(uri)\n",
    "{\n",
    "    SelectedModel = \"llama3\",\n",
    "};\n",
    "\n",
    "string canoetrippingPrompt = \"In 20 words or less, describe the canadian shield as viewed by a an enthusiastic solo canoetripper.\";"
   ]
  },
  {
   "cell_type": "markdown",
   "metadata": {},
   "source": [
    "## List local Ollama models"
   ]
  },
  {
   "cell_type": "code",
   "execution_count": 13,
   "metadata": {
    "vscode": {
     "languageId": "polyglot-notebook"
    }
   },
   "outputs": [
    {
     "name": "stdout",
     "output_type": "stream",
     "text": [
      "llama3:latest\n"
     ]
    }
   ],
   "source": [
    "var models = await ollama.ListLocalModelsAsync();\n",
    "foreach (var model in models)\n",
    "{\n",
    "    Console.WriteLine(model.Name);\n",
    "}"
   ]
  },
  {
   "cell_type": "markdown",
   "metadata": {},
   "source": [
    "## Use non-streaming generate with request"
   ]
  },
  {
   "cell_type": "code",
   "execution_count": 27,
   "metadata": {
    "vscode": {
     "languageId": "polyglot-notebook"
    }
   },
   "outputs": [
    {
     "name": "stdout",
     "output_type": "stream",
     "text": [
      "\"WOW! Towering rock walls, crystal-clear lakes, and endless wilderness await - my paddle's ready to explore this natural wonder!\""
     ]
    }
   ],
   "source": [
    "GenerateRequest request = new()\n",
    "{ \n",
    "    Prompt = canoetrippingPrompt,\n",
    "    Stream = false,\n",
    "    Options = new RequestOptions\n",
    "    {\n",
    "        Temperature = 0.2f,\n",
    "    },\n",
    "};\n",
    "\n",
    "await foreach (var response in ollama.GenerateAsync(request))\n",
    "{\n",
    "    Console.Write(response.Response);\n",
    "}"
   ]
  },
  {
   "cell_type": "markdown",
   "metadata": {},
   "source": [
    "## Use streaming generate with prompt"
   ]
  },
  {
   "cell_type": "code",
   "execution_count": 28,
   "metadata": {
    "vscode": {
     "languageId": "polyglot-notebook"
    }
   },
   "outputs": [
    {
     "name": "stdout",
     "output_type": "stream",
     "text": [
      "\"WOW, granite cliffs, crystal lakes, and ancient forests - pure Canadian wilderness bliss for my canoe!\""
     ]
    }
   ],
   "source": [
    "await foreach (var stream in ollama.GenerateAsync(canoetrippingPrompt))\n",
    "{\n",
    "    Console.Write(stream.Response);\n",
    "}"
   ]
  },
  {
   "cell_type": "markdown",
   "metadata": {},
   "source": [
    "## Use non-streaming chat with request"
   ]
  },
  {
   "cell_type": "code",
   "execution_count": 38,
   "metadata": {
    "vscode": {
     "languageId": "polyglot-notebook"
    }
   },
   "outputs": [
    {
     "name": "stdout",
     "output_type": "stream",
     "text": [
      "\"Whoa, the Canadian Shield is like paddling through a geological masterpiece - ancient rocks, crystal-clear lakes, and rugged beauty!\""
     ]
    }
   ],
   "source": [
    "ChatRequest request = new()\n",
    "{ \n",
    "    Messages = new Message[] \n",
    "    {\n",
    "        new Message\n",
    "        {\n",
    "            Role = \"user\",\n",
    "            Content = canoetrippingPrompt,\n",
    "        },\n",
    "    },\n",
    "    Stream = false,\n",
    "    Options = new RequestOptions\n",
    "    {\n",
    "        Temperature = 0.2f,\n",
    "    },\n",
    "};\n",
    "\n",
    "await foreach (var response in ollama.ChatAsync(request))\n",
    "{\n",
    "    Console.Write(response.Message.Content);\n",
    "}"
   ]
  },
  {
   "cell_type": "markdown",
   "metadata": {},
   "source": [
    "## Use streaming chat with prompt"
   ]
  },
  {
   "cell_type": "code",
   "execution_count": 29,
   "metadata": {
    "dotnet_interactive": {
     "language": "csharp"
    },
    "polyglot_notebook": {
     "kernelName": "csharp"
    },
    "vscode": {
     "languageId": "polyglot-notebook"
    }
   },
   "outputs": [
    {
     "name": "stdout",
     "output_type": "stream",
     "text": [
      "\"Whoa, this ancient rock face is like paddling into a geological masterpiece - rugged, wild, and utterly majestic!\""
     ]
    }
   ],
   "source": [
    "Chat chat = new(ollama)\n",
    "{\n",
    "    Options = new RequestOptions\n",
    "    {\n",
    "        Temperature = 0.2f,\n",
    "    },\n",
    "};\n",
    "\n",
    "await foreach (var answerToken in chat.SendAsync(canoetrippingPrompt))\n",
    "{\n",
    "    Console.Write(answerToken);\n",
    "}"
   ]
  },
  {
   "cell_type": "code",
   "execution_count": null,
   "metadata": {
    "vscode": {
     "languageId": "polyglot-notebook"
    }
   },
   "outputs": [],
   "source": []
  }
 ],
 "metadata": {
  "kernelspec": {
   "display_name": ".NET (C#)",
   "language": "C#",
   "name": ".net-csharp"
  },
  "language_info": {
   "name": "python"
  },
  "polyglot_notebook": {
   "kernelInfo": {
    "defaultKernelName": "csharp",
    "items": [
     {
      "aliases": [],
      "name": "csharp"
     }
    ]
   }
  }
 },
 "nbformat": 4,
 "nbformat_minor": 2
}
