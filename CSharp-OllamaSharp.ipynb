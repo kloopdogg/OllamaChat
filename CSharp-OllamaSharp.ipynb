{
 "cells": [
  {
   "cell_type": "markdown",
   "metadata": {},
   "source": [
    "# Using local Ollama models with C# (OllamaSharp)"
   ]
  },
  {
   "cell_type": "code",
   "execution_count": 32,
   "metadata": {
    "dotnet_interactive": {
     "language": "csharp"
    },
    "polyglot_notebook": {
     "kernelName": "csharp"
    },
    "vscode": {
     "languageId": "polyglot-notebook"
    }
   },
   "outputs": [
    {
     "data": {
      "text/html": [
       "<div><div></div><div></div><div><strong>Installed Packages</strong><ul><li><span>OllamaSharp, 4.0.8</span></li></ul></div></div>"
      ]
     },
     "metadata": {},
     "output_type": "display_data"
    }
   ],
   "source": [
    "#r \"nuget:OllamaSharp\""
   ]
  },
  {
   "cell_type": "code",
   "execution_count": 33,
   "metadata": {
    "dotnet_interactive": {
     "language": "csharp"
    },
    "polyglot_notebook": {
     "kernelName": "csharp"
    },
    "vscode": {
     "languageId": "polyglot-notebook"
    }
   },
   "outputs": [],
   "source": [
    "using OllamaSharp;"
   ]
  },
  {
   "cell_type": "markdown",
   "metadata": {},
   "source": [
    "### List local Ollama models"
   ]
  },
  {
   "cell_type": "code",
   "execution_count": 34,
   "metadata": {
    "dotnet_interactive": {
     "language": "csharp"
    },
    "polyglot_notebook": {
     "kernelName": "csharp"
    },
    "vscode": {
     "languageId": "polyglot-notebook"
    }
   },
   "outputs": [
    {
     "name": "stdout",
     "output_type": "stream",
     "text": [
      "llama3:latest\n"
     ]
    }
   ],
   "source": [
    "var uri = new Uri(\"http://localhost:11434\");\n",
    "var ollama = new OllamaApiClient(uri);\n",
    "var models = await ollama.ListLocalModelsAsync();\n",
    "foreach (var model in models)\n",
    "{\n",
    "    Console.WriteLine(model.Name);\n",
    "}"
   ]
  },
  {
   "cell_type": "code",
   "execution_count": 35,
   "metadata": {
    "dotnet_interactive": {
     "language": "csharp"
    },
    "polyglot_notebook": {
     "kernelName": "csharp"
    },
    "vscode": {
     "languageId": "polyglot-notebook"
    }
   },
   "outputs": [
    {
     "name": "stdout",
     "output_type": "stream",
     "text": [
      "\"Imagine hiking, but on water! Canoetripping combines paddling with wilderness adventure, scenic views, and rugged portages - a game-changer for thrill-seekers like you!\""
     ]
    }
   ],
   "source": [
    "string canoetrippingPrompt = \"As a professional canoe trip outfitter that sees every type of paddler from first-timers to 50-year long-trip canoeist veterans, explain what canoetripping is to an adventurous group of teenage thru-hiking backpackers that have never paddled more than a few hours at a time. Make sure to mention portages. Use 20 words or less, and try to convince them how canoetripping is a life-changing event.\";\n",
    "\n",
    "ollama.SelectedModel = \"llama3\";\n",
    "var chat = new Chat(ollama);\n",
    "chat.Options = new OllamaSharp.Models.RequestOptions\n",
    "{\n",
    "    Temperature = 0.2f,\n",
    "};\n",
    "\n",
    "await foreach (var answerToken in chat.SendAsync(canoetrippingPrompt))\n",
    "{\n",
    "    Console.Write(answerToken);\n",
    "}"
   ]
  },
  {
   "cell_type": "markdown",
   "metadata": {},
   "source": []
  },
  {
   "cell_type": "code",
   "execution_count": 36,
   "metadata": {
    "dotnet_interactive": {
     "language": "csharp"
    },
    "polyglot_notebook": {
     "kernelName": "csharp"
    },
    "vscode": {
     "languageId": "polyglot-notebook"
    }
   },
   "outputs": [],
   "source": []
  }
 ],
 "metadata": {
  "kernelspec": {
   "display_name": ".NET (C#)",
   "language": "C#",
   "name": ".net-csharp"
  },
  "language_info": {
   "name": "python"
  },
  "polyglot_notebook": {
   "kernelInfo": {
    "defaultKernelName": "csharp",
    "items": [
     {
      "aliases": [],
      "name": "csharp"
     }
    ]
   }
  }
 },
 "nbformat": 4,
 "nbformat_minor": 2
}
